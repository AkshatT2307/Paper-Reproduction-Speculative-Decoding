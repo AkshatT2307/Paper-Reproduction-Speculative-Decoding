{
 "cells": [
  {
   "cell_type": "code",
   "execution_count": 1,
   "id": "f3ace67d",
   "metadata": {},
   "outputs": [],
   "source": [
    "import json\n",
    "import matplotlib.pyplot as plt\n",
    "import numpy as np\n",
    "import evaluate\n",
    "from evaluate import load\n",
    "from datasets import load_dataset"
   ]
  },
  {
   "cell_type": "code",
   "execution_count": 7,
   "id": "c180825d",
   "metadata": {},
   "outputs": [],
   "source": [
    "data = []\n",
    "with open(\"C:\\\\Users\\\\aksha\\\\OneDrive\\\\Desktop\\\\NLP\\\\Paper Reproduction\\\\Paper-Reproduction-Speculative-Decoding\\\\Results\\\\results1.jsonl\", \"r\", encoding=\"utf-8\") as f:\n",
    "    for line in f:\n",
    "        data.append(json.loads(line.strip()))"
   ]
  },
  {
   "cell_type": "code",
   "execution_count": 8,
   "id": "d0a52ad0",
   "metadata": {},
   "outputs": [],
   "source": [
    "xsum = load_dataset(\"xsum\", split=f\"test[:10]\",trust_remote_code=True)\n"
   ]
  },
  {
   "cell_type": "code",
   "execution_count": 12,
   "id": "fe439c19",
   "metadata": {},
   "outputs": [
    {
     "name": "stdout",
     "output_type": "stream",
     "text": [
      "Speed up= 1.845584158633016        Acceptance rate= 32.06969552635188\n"
     ]
    }
   ],
   "source": [
    "acceptance_ratio=[]\n",
    "speedup=[]\n",
    "\n",
    "for i in range(10):\n",
    "    acceptance_ratio.append(data[i]['acceptance_ratio'])\n",
    "    speedup.append(data[i]['speculative_speed']/data[i]['inference_speed'])\n",
    "\n",
    "print(f'Speed up= {np.array(speedup).mean()}        Acceptance rate= {np.array(acceptance_ratio).mean()}')"
   ]
  },
  {
   "cell_type": "code",
   "execution_count": 13,
   "id": "4d4ecaa9",
   "metadata": {},
   "outputs": [],
   "source": [
    "rouge=evaluate.load('rouge')"
   ]
  },
  {
   "cell_type": "code",
   "execution_count": 14,
   "id": "6abbbc5b",
   "metadata": {},
   "outputs": [],
   "source": [
    "og_summary = [sample[\"original_summary\"] for sample in data]  # adjust key as per your file\n",
    "spec_summary = [sample[\"speculative_summary\"] for sample in data]  # adjust key as per your file\n",
    "refs = [xsum[i][\"summary\"] for i in range(10)]"
   ]
  },
  {
   "cell_type": "code",
   "execution_count": 16,
   "id": "38978970",
   "metadata": {},
   "outputs": [],
   "source": [
    "og_rouge1 = rouge.compute(predictions=og_summary, references=refs, use_stemmer=True)['rouge1']\n",
    "spec_rouge1 = rouge.compute(predictions=spec_summary, references=refs, use_stemmer=True)['rouge1']"
   ]
  },
  {
   "cell_type": "code",
   "execution_count": 17,
   "id": "d7c56f86",
   "metadata": {},
   "outputs": [
    {
     "name": "stdout",
     "output_type": "stream",
     "text": [
      "Rouge1 scores for summary from target model= 0.1605679480449831 \n",
      " Rouge1 scores for summary from Speculative decoding= 0.15928924118983012\n"
     ]
    }
   ],
   "source": [
    "print(f'Rouge1 scores for summary from target model= {og_rouge1} \\n Rouge1 scores for summary from Speculative decoding= {spec_rouge1}')"
   ]
  }
 ],
 "metadata": {
  "kernelspec": {
   "display_name": "Python 3",
   "language": "python",
   "name": "python3"
  },
  "language_info": {
   "codemirror_mode": {
    "name": "ipython",
    "version": 3
   },
   "file_extension": ".py",
   "mimetype": "text/x-python",
   "name": "python",
   "nbconvert_exporter": "python",
   "pygments_lexer": "ipython3",
   "version": "3.13.1"
  }
 },
 "nbformat": 4,
 "nbformat_minor": 5
}
